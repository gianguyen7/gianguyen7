{
 "cells": [
  {
   "cell_type": "code",
   "execution_count": 2,
   "id": "f8a71297",
   "metadata": {},
   "outputs": [],
   "source": [
    "import pandas as pd\n",
    "import numpy as np\n",
    "import os\n",
    "import matplotlib.pyplot as plt\n",
    "import seaborn as sns\n",
    "\n",
    "from sklearn.model_selection import train_test_split\n",
    "import tensorflow as tf\n",
    "from tensorflow.keras.preprocessing.image import ImageDataGenerator, array_to_img, img_to_array, load_img\n",
    "from PIL import ImageFile, Image\n",
    "import warnings\n",
    "import boto3"
   ]
  },
  {
   "cell_type": "code",
   "execution_count": null,
   "id": "82868685",
   "metadata": {},
   "outputs": [],
   "source": []
  },
  {
   "cell_type": "code",
   "execution_count": 3,
   "id": "39ea592d",
   "metadata": {},
   "outputs": [],
   "source": [
    "import os\n",
    "import matplotlib.pyplot as plt\n",
    "import seaborn as sns\n",
    "import random\n",
    "from sklearn.model_selection import train_test_split\n",
    "from PIL import ImageFile, Image\n",
    "import io\n",
    "# Initialize S3 client\n",
    "session = boto3.Session(\n",
    "#    aws_access_key_id='',\n",
    "#    aws_secret_access_key='' \n",
    ")\n",
    "# client = session.client('s3')\n",
    "s3 = session.client('s3')\n",
    "s3_bucket = '207-images-labels'\n",
    "def read_data_from_s3(bucket, key):\n",
    "    response = s3.get_object(Bucket=bucket, Key=key)\n",
    "    data = np.load(io.BytesIO(response['Body'].read()))\n",
    "    return data\n",
    "def write_data_to_s3(bucket, key, data):\n",
    "    np_bytes = io.BytesIO()\n",
    "    np.save(np_bytes, data)\n",
    "    np_bytes.seek(0)\n",
    "    s3.put_object(Bucket=bucket, Key=key, Body=np_bytes)\n",
    "def list_objects_in_s3(bucket, prefix):\n",
    "    response = s3.list_objects_v2(Bucket=bucket, Prefix=prefix)\n",
    "    if 'Contents' in response:\n",
    "        return [obj['Key'] for obj in response['Contents']]\n",
    "    else:\n",
    "        return []"
   ]
  },
  {
   "cell_type": "code",
   "execution_count": 14,
   "id": "1902f90f",
   "metadata": {},
   "outputs": [],
   "source": [
    "images = list_objects_in_s3(s3_bucket, 'train/pre1/images/img_numpy_train_batch_1')"
   ]
  },
  {
   "cell_type": "code",
   "execution_count": 19,
   "id": "4126152e",
   "metadata": {},
   "outputs": [
    {
     "name": "stdout",
     "output_type": "stream",
     "text": [
      "1\n",
      "2\n",
      "3\n",
      "4\n",
      "5\n",
      "6\n",
      "7\n",
      "8\n",
      "2582\n"
     ]
    }
   ],
   "source": [
    "eval_images = []\n",
    "for i in range(8):\n",
    "    print(i+1)\n",
    "    images = list_objects_in_s3(s3_bucket, f'train/pre1/images/img_numpy_train_batch_{i+1}')\n",
    "    eval_images += ([x for x in images if x not in lines])\n",
    "print(len(eval_images))\n",
    "with open('evaluate_images', 'w') as f:\n",
    "    for item in eval_images:\n",
    "        f.write(\"%s\\n\" % item)"
   ]
  },
  {
   "cell_type": "code",
   "execution_count": 8,
   "id": "e3b0262e",
   "metadata": {},
   "outputs": [
    {
     "name": "stdout",
     "output_type": "stream",
     "text": [
      "686\n"
     ]
    }
   ],
   "source": [
    "#Formatting test/validation data to evaluate model\n",
    "# Define the file path\n",
    "file_path = '../train_images'\n",
    "\n",
    "# Open the file and read lines into a list\n",
    "with open(file_path, 'r') as file:\n",
    "    lines = file.readlines()\n",
    "\n",
    "# Remove trailing newline characters and extra whitespace from each line\n",
    "lines = [line.strip() for line in lines]\n",
    "\n",
    "# Print the list to verify\n",
    "images_not_trained = [x for x in images if x not in lines]\n",
    "print(len(images_not_trained))\n",
    "with open('evaluate_images', 'w') as f:\n",
    "    for item in images_not_trained:\n",
    "        f.write(\"%s\\n\" % item)"
   ]
  },
  {
   "cell_type": "code",
   "execution_count": 15,
   "id": "adcc106b",
   "metadata": {
    "scrolled": true
   },
   "outputs": [
    {
     "name": "stdout",
     "output_type": "stream",
     "text": [
      "1000\n",
      "['train/pre1/images/img_numpy_train_batch_190_imgs.npy', 'train/pre1/images/img_numpy_train_batch_1913_imgs.npy', 'train/pre1/images/img_numpy_train_batch_1920_imgs.npy', 'train/pre1/images/img_numpy_train_batch_1921_imgs.npy', 'train/pre1/images/img_numpy_train_batch_1926_imgs.npy', 'train/pre1/images/img_numpy_train_batch_1931_imgs.npy', 'train/pre1/images/img_numpy_train_batch_1933_imgs.npy', 'train/pre1/images/img_numpy_train_batch_1939_imgs.npy', 'train/pre1/images/img_numpy_train_batch_1941_imgs.npy', 'train/pre1/images/img_numpy_train_batch_1947_imgs.npy', 'train/pre1/images/img_numpy_train_batch_1954_imgs.npy', 'train/pre1/images/img_numpy_train_batch_1958_imgs.npy', 'train/pre1/images/img_numpy_train_batch_1964_imgs.npy', 'train/pre1/images/img_numpy_train_batch_1977_imgs.npy', 'train/pre1/images/img_numpy_train_batch_1981_imgs.npy', 'train/pre1/images/img_numpy_train_batch_1991_imgs.npy', 'train/pre1/images/img_numpy_train_batch_1993_imgs.npy', 'train/pre1/images/img_numpy_train_batch_1995_imgs.npy', 'train/pre1/images/img_numpy_train_batch_2002_imgs.npy', 'train/pre1/images/img_numpy_train_batch_2004_imgs.npy', 'train/pre1/images/img_numpy_train_batch_2011_imgs.npy', 'train/pre1/images/img_numpy_train_batch_2013_imgs.npy', 'train/pre1/images/img_numpy_train_batch_2017_imgs.npy', 'train/pre1/images/img_numpy_train_batch_201_imgs.npy', 'train/pre1/images/img_numpy_train_batch_2025_imgs.npy', 'train/pre1/images/img_numpy_train_batch_2028_imgs.npy', 'train/pre1/images/img_numpy_train_batch_202_imgs.npy', 'train/pre1/images/img_numpy_train_batch_2031_imgs.npy', 'train/pre1/images/img_numpy_train_batch_2033_imgs.npy', 'train/pre1/images/img_numpy_train_batch_2034_imgs.npy', 'train/pre1/images/img_numpy_train_batch_2035_imgs.npy', 'train/pre1/images/img_numpy_train_batch_2042_imgs.npy', 'train/pre1/images/img_numpy_train_batch_2043_imgs.npy', 'train/pre1/images/img_numpy_train_batch_2049_imgs.npy', 'train/pre1/images/img_numpy_train_batch_2055_imgs.npy', 'train/pre1/images/img_numpy_train_batch_2056_imgs.npy', 'train/pre1/images/img_numpy_train_batch_2057_imgs.npy', 'train/pre1/images/img_numpy_train_batch_2059_imgs.npy', 'train/pre1/images/img_numpy_train_batch_2065_imgs.npy', 'train/pre1/images/img_numpy_train_batch_2069_imgs.npy', 'train/pre1/images/img_numpy_train_batch_206_imgs.npy', 'train/pre1/images/img_numpy_train_batch_2070_imgs.npy', 'train/pre1/images/img_numpy_train_batch_2074_imgs.npy', 'train/pre1/images/img_numpy_train_batch_2076_imgs.npy', 'train/pre1/images/img_numpy_train_batch_2077_imgs.npy', 'train/pre1/images/img_numpy_train_batch_2079_imgs.npy', 'train/pre1/images/img_numpy_train_batch_2080_imgs.npy', 'train/pre1/images/img_numpy_train_batch_2082_imgs.npy', 'train/pre1/images/img_numpy_train_batch_2083_imgs.npy', 'train/pre1/images/img_numpy_train_batch_2084_imgs.npy', 'train/pre1/images/img_numpy_train_batch_2087_imgs.npy', 'train/pre1/images/img_numpy_train_batch_2089_imgs.npy', 'train/pre1/images/img_numpy_train_batch_2090_imgs.npy', 'train/pre1/images/img_numpy_train_batch_2093_imgs.npy', 'train/pre1/images/img_numpy_train_batch_2097_imgs.npy', 'train/pre1/images/img_numpy_train_batch_209_imgs.npy', 'train/pre1/images/img_numpy_train_batch_20_imgs.npy', 'train/pre1/images/img_numpy_train_batch_2104_imgs.npy', 'train/pre1/images/img_numpy_train_batch_2107_imgs.npy', 'train/pre1/images/img_numpy_train_batch_210_imgs.npy', 'train/pre1/images/img_numpy_train_batch_2113_imgs.npy', 'train/pre1/images/img_numpy_train_batch_2115_imgs.npy', 'train/pre1/images/img_numpy_train_batch_2116_imgs.npy', 'train/pre1/images/img_numpy_train_batch_2117_imgs.npy', 'train/pre1/images/img_numpy_train_batch_2118_imgs.npy', 'train/pre1/images/img_numpy_train_batch_211_imgs.npy', 'train/pre1/images/img_numpy_train_batch_2120_imgs.npy', 'train/pre1/images/img_numpy_train_batch_2123_imgs.npy', 'train/pre1/images/img_numpy_train_batch_2125_imgs.npy', 'train/pre1/images/img_numpy_train_batch_2126_imgs.npy', 'train/pre1/images/img_numpy_train_batch_2129_imgs.npy', 'train/pre1/images/img_numpy_train_batch_212_imgs.npy', 'train/pre1/images/img_numpy_train_batch_2138_imgs.npy', 'train/pre1/images/img_numpy_train_batch_2150_imgs.npy', 'train/pre1/images/img_numpy_train_batch_2151_imgs.npy', 'train/pre1/images/img_numpy_train_batch_2157_imgs.npy', 'train/pre1/images/img_numpy_train_batch_2161_imgs.npy', 'train/pre1/images/img_numpy_train_batch_2162_imgs.npy', 'train/pre1/images/img_numpy_train_batch_2163_imgs.npy', 'train/pre1/images/img_numpy_train_batch_2165_imgs.npy', 'train/pre1/images/img_numpy_train_batch_2166_imgs.npy', 'train/pre1/images/img_numpy_train_batch_2169_imgs.npy', 'train/pre1/images/img_numpy_train_batch_2172_imgs.npy', 'train/pre1/images/img_numpy_train_batch_2173_imgs.npy', 'train/pre1/images/img_numpy_train_batch_2175_imgs.npy', 'train/pre1/images/img_numpy_train_batch_217_imgs.npy', 'train/pre1/images/img_numpy_train_batch_2182_imgs.npy', 'train/pre1/images/img_numpy_train_batch_2184_imgs.npy', 'train/pre1/images/img_numpy_train_batch_2187_imgs.npy', 'train/pre1/images/img_numpy_train_batch_2189_imgs.npy', 'train/pre1/images/img_numpy_train_batch_218_imgs.npy', 'train/pre1/images/img_numpy_train_batch_2192_imgs.npy', 'train/pre1/images/img_numpy_train_batch_2194_imgs.npy', 'train/pre1/images/img_numpy_train_batch_2196_imgs.npy', 'train/pre1/images/img_numpy_train_batch_2201_imgs.npy', 'train/pre1/images/img_numpy_train_batch_2202_imgs.npy', 'train/pre1/images/img_numpy_train_batch_2204_imgs.npy', 'train/pre1/images/img_numpy_train_batch_2210_imgs.npy', 'train/pre1/images/img_numpy_train_batch_2211_imgs.npy', 'train/pre1/images/img_numpy_train_batch_2216_imgs.npy', 'train/pre1/images/img_numpy_train_batch_2218_imgs.npy', 'train/pre1/images/img_numpy_train_batch_2219_imgs.npy', 'train/pre1/images/img_numpy_train_batch_2225_imgs.npy', 'train/pre1/images/img_numpy_train_batch_2229_imgs.npy', 'train/pre1/images/img_numpy_train_batch_2233_imgs.npy', 'train/pre1/images/img_numpy_train_batch_2238_imgs.npy', 'train/pre1/images/img_numpy_train_batch_223_imgs.npy', 'train/pre1/images/img_numpy_train_batch_2240_imgs.npy', 'train/pre1/images/img_numpy_train_batch_2243_imgs.npy', 'train/pre1/images/img_numpy_train_batch_2244_imgs.npy', 'train/pre1/images/img_numpy_train_batch_2253_imgs.npy', 'train/pre1/images/img_numpy_train_batch_2255_imgs.npy', 'train/pre1/images/img_numpy_train_batch_2258_imgs.npy', 'train/pre1/images/img_numpy_train_batch_225_imgs.npy', 'train/pre1/images/img_numpy_train_batch_2260_imgs.npy', 'train/pre1/images/img_numpy_train_batch_2261_imgs.npy', 'train/pre1/images/img_numpy_train_batch_2265_imgs.npy', 'train/pre1/images/img_numpy_train_batch_2267_imgs.npy', 'train/pre1/images/img_numpy_train_batch_226_imgs.npy', 'train/pre1/images/img_numpy_train_batch_2272_imgs.npy', 'train/pre1/images/img_numpy_train_batch_2273_imgs.npy', 'train/pre1/images/img_numpy_train_batch_2275_imgs.npy', 'train/pre1/images/img_numpy_train_batch_227_imgs.npy', 'train/pre1/images/img_numpy_train_batch_2280_imgs.npy', 'train/pre1/images/img_numpy_train_batch_2282_imgs.npy', 'train/pre1/images/img_numpy_train_batch_2284_imgs.npy', 'train/pre1/images/img_numpy_train_batch_2286_imgs.npy', 'train/pre1/images/img_numpy_train_batch_2292_imgs.npy', 'train/pre1/images/img_numpy_train_batch_2294_imgs.npy', 'train/pre1/images/img_numpy_train_batch_2297_imgs.npy', 'train/pre1/images/img_numpy_train_batch_2300_imgs.npy', 'train/pre1/images/img_numpy_train_batch_2302_imgs.npy', 'train/pre1/images/img_numpy_train_batch_2307_imgs.npy', 'train/pre1/images/img_numpy_train_batch_2309_imgs.npy', 'train/pre1/images/img_numpy_train_batch_230_imgs.npy', 'train/pre1/images/img_numpy_train_batch_2310_imgs.npy', 'train/pre1/images/img_numpy_train_batch_2314_imgs.npy', 'train/pre1/images/img_numpy_train_batch_2316_imgs.npy', 'train/pre1/images/img_numpy_train_batch_2325_imgs.npy', 'train/pre1/images/img_numpy_train_batch_2329_imgs.npy', 'train/pre1/images/img_numpy_train_batch_232_imgs.npy', 'train/pre1/images/img_numpy_train_batch_2332_imgs.npy', 'train/pre1/images/img_numpy_train_batch_2333_imgs.npy', 'train/pre1/images/img_numpy_train_batch_2334_imgs.npy', 'train/pre1/images/img_numpy_train_batch_2335_imgs.npy', 'train/pre1/images/img_numpy_train_batch_2336_imgs.npy', 'train/pre1/images/img_numpy_train_batch_233_imgs.npy', 'train/pre1/images/img_numpy_train_batch_2342_imgs.npy', 'train/pre1/images/img_numpy_train_batch_2345_imgs.npy', 'train/pre1/images/img_numpy_train_batch_2348_imgs.npy', 'train/pre1/images/img_numpy_train_batch_2349_imgs.npy', 'train/pre1/images/img_numpy_train_batch_2350_imgs.npy', 'train/pre1/images/img_numpy_train_batch_2355_imgs.npy', 'train/pre1/images/img_numpy_train_batch_2361_imgs.npy', 'train/pre1/images/img_numpy_train_batch_2364_imgs.npy', 'train/pre1/images/img_numpy_train_batch_2365_imgs.npy', 'train/pre1/images/img_numpy_train_batch_2366_imgs.npy', 'train/pre1/images/img_numpy_train_batch_2370_imgs.npy', 'train/pre1/images/img_numpy_train_batch_2376_imgs.npy', 'train/pre1/images/img_numpy_train_batch_2377_imgs.npy', 'train/pre1/images/img_numpy_train_batch_2378_imgs.npy', 'train/pre1/images/img_numpy_train_batch_2379_imgs.npy', 'train/pre1/images/img_numpy_train_batch_2382_imgs.npy', 'train/pre1/images/img_numpy_train_batch_2384_imgs.npy', 'train/pre1/images/img_numpy_train_batch_2385_imgs.npy', 'train/pre1/images/img_numpy_train_batch_2388_imgs.npy', 'train/pre1/images/img_numpy_train_batch_238_imgs.npy', 'train/pre1/images/img_numpy_train_batch_2390_imgs.npy', 'train/pre1/images/img_numpy_train_batch_2394_imgs.npy', 'train/pre1/images/img_numpy_train_batch_2397_imgs.npy', 'train/pre1/images/img_numpy_train_batch_2399_imgs.npy', 'train/pre1/images/img_numpy_train_batch_239_imgs.npy', 'train/pre1/images/img_numpy_train_batch_2404_imgs.npy', 'train/pre1/images/img_numpy_train_batch_2405_imgs.npy', 'train/pre1/images/img_numpy_train_batch_2407_imgs.npy', 'train/pre1/images/img_numpy_train_batch_2412_imgs.npy', 'train/pre1/images/img_numpy_train_batch_2414_imgs.npy', 'train/pre1/images/img_numpy_train_batch_2417_imgs.npy', 'train/pre1/images/img_numpy_train_batch_2421_imgs.npy', 'train/pre1/images/img_numpy_train_batch_2428_imgs.npy', 'train/pre1/images/img_numpy_train_batch_2430_imgs.npy', 'train/pre1/images/img_numpy_train_batch_2435_imgs.npy', 'train/pre1/images/img_numpy_train_batch_2436_imgs.npy', 'train/pre1/images/img_numpy_train_batch_2437_imgs.npy', 'train/pre1/images/img_numpy_train_batch_2441_imgs.npy', 'train/pre1/images/img_numpy_train_batch_2450_imgs.npy', 'train/pre1/images/img_numpy_train_batch_2452_imgs.npy', 'train/pre1/images/img_numpy_train_batch_2454_imgs.npy', 'train/pre1/images/img_numpy_train_batch_2456_imgs.npy', 'train/pre1/images/img_numpy_train_batch_2457_imgs.npy', 'train/pre1/images/img_numpy_train_batch_2458_imgs.npy', 'train/pre1/images/img_numpy_train_batch_2461_imgs.npy', 'train/pre1/images/img_numpy_train_batch_2464_imgs.npy', 'train/pre1/images/img_numpy_train_batch_2467_imgs.npy', 'train/pre1/images/img_numpy_train_batch_2470_imgs.npy', 'train/pre1/images/img_numpy_train_batch_2474_imgs.npy', 'train/pre1/images/img_numpy_train_batch_2480_imgs.npy', 'train/pre1/images/img_numpy_train_batch_2486_imgs.npy', 'train/pre1/images/img_numpy_train_batch_2489_imgs.npy', 'train/pre1/images/img_numpy_train_batch_248_imgs.npy', 'train/pre1/images/img_numpy_train_batch_2491_imgs.npy', 'train/pre1/images/img_numpy_train_batch_2494_imgs.npy', 'train/pre1/images/img_numpy_train_batch_2495_imgs.npy', 'train/pre1/images/img_numpy_train_batch_2496_imgs.npy', 'train/pre1/images/img_numpy_train_batch_2497_imgs.npy', 'train/pre1/images/img_numpy_train_batch_2501_imgs.npy', 'train/pre1/images/img_numpy_train_batch_2502_imgs.npy', 'train/pre1/images/img_numpy_train_batch_2505_imgs.npy', 'train/pre1/images/img_numpy_train_batch_2507_imgs.npy', 'train/pre1/images/img_numpy_train_batch_2509_imgs.npy', 'train/pre1/images/img_numpy_train_batch_250_imgs.npy', 'train/pre1/images/img_numpy_train_batch_2510_imgs.npy', 'train/pre1/images/img_numpy_train_batch_2512_imgs.npy', 'train/pre1/images/img_numpy_train_batch_2516_imgs.npy', 'train/pre1/images/img_numpy_train_batch_251_imgs.npy', 'train/pre1/images/img_numpy_train_batch_2521_imgs.npy', 'train/pre1/images/img_numpy_train_batch_2522_imgs.npy', 'train/pre1/images/img_numpy_train_batch_2523_imgs.npy', 'train/pre1/images/img_numpy_train_batch_2535_imgs.npy', 'train/pre1/images/img_numpy_train_batch_253_imgs.npy', 'train/pre1/images/img_numpy_train_batch_2540_imgs.npy', 'train/pre1/images/img_numpy_train_batch_2541_imgs.npy', 'train/pre1/images/img_numpy_train_batch_2543_imgs.npy', 'train/pre1/images/img_numpy_train_batch_2544_imgs.npy', 'train/pre1/images/img_numpy_train_batch_2546_imgs.npy', 'train/pre1/images/img_numpy_train_batch_2547_imgs.npy', 'train/pre1/images/img_numpy_train_batch_2550_imgs.npy', 'train/pre1/images/img_numpy_train_batch_2551_imgs.npy', 'train/pre1/images/img_numpy_train_batch_2552_imgs.npy', 'train/pre1/images/img_numpy_train_batch_2565_imgs.npy', 'train/pre1/images/img_numpy_train_batch_2567_imgs.npy', 'train/pre1/images/img_numpy_train_batch_2568_imgs.npy', 'train/pre1/images/img_numpy_train_batch_2569_imgs.npy', 'train/pre1/images/img_numpy_train_batch_2572_imgs.npy', 'train/pre1/images/img_numpy_train_batch_2576_imgs.npy', 'train/pre1/images/img_numpy_train_batch_2580_imgs.npy', 'train/pre1/images/img_numpy_train_batch_2586_imgs.npy', 'train/pre1/images/img_numpy_train_batch_2588_imgs.npy', 'train/pre1/images/img_numpy_train_batch_2590_imgs.npy', 'train/pre1/images/img_numpy_train_batch_2593_imgs.npy', 'train/pre1/images/img_numpy_train_batch_2594_imgs.npy', 'train/pre1/images/img_numpy_train_batch_2596_imgs.npy', 'train/pre1/images/img_numpy_train_batch_2597_imgs.npy', 'train/pre1/images/img_numpy_train_batch_259_imgs.npy', 'train/pre1/images/img_numpy_train_batch_2606_imgs.npy', 'train/pre1/images/img_numpy_train_batch_2607_imgs.npy', 'train/pre1/images/img_numpy_train_batch_2614_imgs.npy', 'train/pre1/images/img_numpy_train_batch_2620_imgs.npy', 'train/pre1/images/img_numpy_train_batch_2628_imgs.npy', 'train/pre1/images/img_numpy_train_batch_2631_imgs.npy', 'train/pre1/images/img_numpy_train_batch_2632_imgs.npy', 'train/pre1/images/img_numpy_train_batch_2635_imgs.npy', 'train/pre1/images/img_numpy_train_batch_2638_imgs.npy', 'train/pre1/images/img_numpy_train_batch_2639_imgs.npy', 'train/pre1/images/img_numpy_train_batch_263_imgs.npy', 'train/pre1/images/img_numpy_train_batch_2641_imgs.npy', 'train/pre1/images/img_numpy_train_batch_2643_imgs.npy', 'train/pre1/images/img_numpy_train_batch_2647_imgs.npy', 'train/pre1/images/img_numpy_train_batch_2651_imgs.npy', 'train/pre1/images/img_numpy_train_batch_2653_imgs.npy', 'train/pre1/images/img_numpy_train_batch_2656_imgs.npy', 'train/pre1/images/img_numpy_train_batch_2659_imgs.npy', 'train/pre1/images/img_numpy_train_batch_2660_imgs.npy', 'train/pre1/images/img_numpy_train_batch_2663_imgs.npy', 'train/pre1/images/img_numpy_train_batch_2664_imgs.npy', 'train/pre1/images/img_numpy_train_batch_2667_imgs.npy', 'train/pre1/images/img_numpy_train_batch_2669_imgs.npy', 'train/pre1/images/img_numpy_train_batch_2676_imgs.npy', 'train/pre1/images/img_numpy_train_batch_2682_imgs.npy', 'train/pre1/images/img_numpy_train_batch_2684_imgs.npy', 'train/pre1/images/img_numpy_train_batch_2688_imgs.npy', 'train/pre1/images/img_numpy_train_batch_2689_imgs.npy', 'train/pre1/images/img_numpy_train_batch_2691_imgs.npy', 'train/pre1/images/img_numpy_train_batch_2696_imgs.npy', 'train/pre1/images/img_numpy_train_batch_2697_imgs.npy', 'train/pre1/images/img_numpy_train_batch_2699_imgs.npy', 'train/pre1/images/img_numpy_train_batch_269_imgs.npy', 'train/pre1/images/img_numpy_train_batch_2701_imgs.npy', 'train/pre1/images/img_numpy_train_batch_2703_imgs.npy', 'train/pre1/images/img_numpy_train_batch_2706_imgs.npy', 'train/pre1/images/img_numpy_train_batch_270_imgs.npy', 'train/pre1/images/img_numpy_train_batch_2710_imgs.npy', 'train/pre1/images/img_numpy_train_batch_2711_imgs.npy', 'train/pre1/images/img_numpy_train_batch_2712_imgs.npy', 'train/pre1/images/img_numpy_train_batch_2727_imgs.npy', 'train/pre1/images/img_numpy_train_batch_2729_imgs.npy', 'train/pre1/images/img_numpy_train_batch_272_imgs.npy', 'train/pre1/images/img_numpy_train_batch_2735_imgs.npy', 'train/pre1/images/img_numpy_train_batch_2736_imgs.npy', 'train/pre1/images/img_numpy_train_batch_2737_imgs.npy', 'train/pre1/images/img_numpy_train_batch_2739_imgs.npy', 'train/pre1/images/img_numpy_train_batch_273_imgs.npy', 'train/pre1/images/img_numpy_train_batch_2740_imgs.npy', 'train/pre1/images/img_numpy_train_batch_2744_imgs.npy', 'train/pre1/images/img_numpy_train_batch_2756_imgs.npy', 'train/pre1/images/img_numpy_train_batch_2767_imgs.npy', 'train/pre1/images/img_numpy_train_batch_276_imgs.npy', 'train/pre1/images/img_numpy_train_batch_2774_imgs.npy', 'train/pre1/images/img_numpy_train_batch_2778_imgs.npy', 'train/pre1/images/img_numpy_train_batch_277_imgs.npy', 'train/pre1/images/img_numpy_train_batch_278_imgs.npy', 'train/pre1/images/img_numpy_train_batch_2792_imgs.npy', 'train/pre1/images/img_numpy_train_batch_2793_imgs.npy', 'train/pre1/images/img_numpy_train_batch_2797_imgs.npy', 'train/pre1/images/img_numpy_train_batch_2799_imgs.npy', 'train/pre1/images/img_numpy_train_batch_2803_imgs.npy', 'train/pre1/images/img_numpy_train_batch_2805_imgs.npy', 'train/pre1/images/img_numpy_train_batch_2806_imgs.npy', 'train/pre1/images/img_numpy_train_batch_2807_imgs.npy', 'train/pre1/images/img_numpy_train_batch_2812_imgs.npy', 'train/pre1/images/img_numpy_train_batch_2815_imgs.npy', 'train/pre1/images/img_numpy_train_batch_2818_imgs.npy', 'train/pre1/images/img_numpy_train_batch_2820_imgs.npy', 'train/pre1/images/img_numpy_train_batch_2822_imgs.npy', 'train/pre1/images/img_numpy_train_batch_2827_imgs.npy', 'train/pre1/images/img_numpy_train_batch_2830_imgs.npy', 'train/pre1/images/img_numpy_train_batch_2831_imgs.npy', 'train/pre1/images/img_numpy_train_batch_2833_imgs.npy', 'train/pre1/images/img_numpy_train_batch_2834_imgs.npy', 'train/pre1/images/img_numpy_train_batch_2835_imgs.npy', 'train/pre1/images/img_numpy_train_batch_2836_imgs.npy', 'train/pre1/images/img_numpy_train_batch_2837_imgs.npy', 'train/pre1/images/img_numpy_train_batch_283_imgs.npy', 'train/pre1/images/img_numpy_train_batch_2840_imgs.npy', 'train/pre1/images/img_numpy_train_batch_2843_imgs.npy', 'train/pre1/images/img_numpy_train_batch_2845_imgs.npy', 'train/pre1/images/img_numpy_train_batch_2846_imgs.npy', 'train/pre1/images/img_numpy_train_batch_285_imgs.npy', 'train/pre1/images/img_numpy_train_batch_2865_imgs.npy', 'train/pre1/images/img_numpy_train_batch_2872_imgs.npy', 'train/pre1/images/img_numpy_train_batch_2876_imgs.npy', 'train/pre1/images/img_numpy_train_batch_2877_imgs.npy', 'train/pre1/images/img_numpy_train_batch_2881_imgs.npy', 'train/pre1/images/img_numpy_train_batch_2882_imgs.npy', 'train/pre1/images/img_numpy_train_batch_2883_imgs.npy', 'train/pre1/images/img_numpy_train_batch_2885_imgs.npy', 'train/pre1/images/img_numpy_train_batch_2887_imgs.npy', 'train/pre1/images/img_numpy_train_batch_2890_imgs.npy', 'train/pre1/images/img_numpy_train_batch_2893_imgs.npy', 'train/pre1/images/img_numpy_train_batch_2896_imgs.npy', 'train/pre1/images/img_numpy_train_batch_2897_imgs.npy', 'train/pre1/images/img_numpy_train_batch_2901_imgs.npy', 'train/pre1/images/img_numpy_train_batch_2902_imgs.npy', 'train/pre1/images/img_numpy_train_batch_2906_imgs.npy', 'train/pre1/images/img_numpy_train_batch_2907_imgs.npy', 'train/pre1/images/img_numpy_train_batch_2910_imgs.npy', 'train/pre1/images/img_numpy_train_batch_2913_imgs.npy', 'train/pre1/images/img_numpy_train_batch_2914_imgs.npy', 'train/pre1/images/img_numpy_train_batch_2915_imgs.npy', 'train/pre1/images/img_numpy_train_batch_2917_imgs.npy', 'train/pre1/images/img_numpy_train_batch_2918_imgs.npy', 'train/pre1/images/img_numpy_train_batch_2919_imgs.npy', 'train/pre1/images/img_numpy_train_batch_2923_imgs.npy', 'train/pre1/images/img_numpy_train_batch_2929_imgs.npy', 'train/pre1/images/img_numpy_train_batch_292_imgs.npy', 'train/pre1/images/img_numpy_train_batch_2934_imgs.npy', 'train/pre1/images/img_numpy_train_batch_293_imgs.npy', 'train/pre1/images/img_numpy_train_batch_2942_imgs.npy', 'train/pre1/images/img_numpy_train_batch_2943_imgs.npy', 'train/pre1/images/img_numpy_train_batch_2944_imgs.npy', 'train/pre1/images/img_numpy_train_batch_294_imgs.npy', 'train/pre1/images/img_numpy_train_batch_2950_imgs.npy', 'train/pre1/images/img_numpy_train_batch_2951_imgs.npy', 'train/pre1/images/img_numpy_train_batch_2953_imgs.npy', 'train/pre1/images/img_numpy_train_batch_2956_imgs.npy', 'train/pre1/images/img_numpy_train_batch_295_imgs.npy', 'train/pre1/images/img_numpy_train_batch_2963_imgs.npy', 'train/pre1/images/img_numpy_train_batch_2965_imgs.npy', 'train/pre1/images/img_numpy_train_batch_2967_imgs.npy', 'train/pre1/images/img_numpy_train_batch_2968_imgs.npy', 'train/pre1/images/img_numpy_train_batch_2969_imgs.npy', 'train/pre1/images/img_numpy_train_batch_2972_imgs.npy', 'train/pre1/images/img_numpy_train_batch_2974_imgs.npy', 'train/pre1/images/img_numpy_train_batch_297_imgs.npy', 'train/pre1/images/img_numpy_train_batch_2980_imgs.npy', 'train/pre1/images/img_numpy_train_batch_2997_imgs.npy', 'train/pre1/images/img_numpy_train_batch_299_imgs.npy', 'train/pre1/images/img_numpy_train_batch_3000_imgs.npy', 'train/pre1/images/img_numpy_train_batch_3002_imgs.npy', 'train/pre1/images/img_numpy_train_batch_3004_imgs.npy', 'train/pre1/images/img_numpy_train_batch_3009_imgs.npy', 'train/pre1/images/img_numpy_train_batch_300_imgs.npy', 'train/pre1/images/img_numpy_train_batch_3012_imgs.npy', 'train/pre1/images/img_numpy_train_batch_3013_imgs.npy', 'train/pre1/images/img_numpy_train_batch_3017_imgs.npy', 'train/pre1/images/img_numpy_train_batch_3018_imgs.npy', 'train/pre1/images/img_numpy_train_batch_3020_imgs.npy', 'train/pre1/images/img_numpy_train_batch_3024_imgs.npy', 'train/pre1/images/img_numpy_train_batch_3026_imgs.npy', 'train/pre1/images/img_numpy_train_batch_3030_imgs.npy', 'train/pre1/images/img_numpy_train_batch_3033_imgs.npy', 'train/pre1/images/img_numpy_train_batch_3035_imgs.npy', 'train/pre1/images/img_numpy_train_batch_3040_imgs.npy', 'train/pre1/images/img_numpy_train_batch_3041_imgs.npy', 'train/pre1/images/img_numpy_train_batch_304_imgs.npy', 'train/pre1/images/img_numpy_train_batch_3052_imgs.npy', 'train/pre1/images/img_numpy_train_batch_3054_imgs.npy', 'train/pre1/images/img_numpy_train_batch_3056_imgs.npy', 'train/pre1/images/img_numpy_train_batch_3063_imgs.npy', 'train/pre1/images/img_numpy_train_batch_3067_imgs.npy', 'train/pre1/images/img_numpy_train_batch_3069_imgs.npy', 'train/pre1/images/img_numpy_train_batch_3073_imgs.npy', 'train/pre1/images/img_numpy_train_batch_3074_imgs.npy', 'train/pre1/images/img_numpy_train_batch_3086_imgs.npy', 'train/pre1/images/img_numpy_train_batch_3087_imgs.npy', 'train/pre1/images/img_numpy_train_batch_3092_imgs.npy', 'train/pre1/images/img_numpy_train_batch_3094_imgs.npy', 'train/pre1/images/img_numpy_train_batch_3096_imgs.npy', 'train/pre1/images/img_numpy_train_batch_3097_imgs.npy', 'train/pre1/images/img_numpy_train_batch_3101_imgs.npy', 'train/pre1/images/img_numpy_train_batch_3106_imgs.npy', 'train/pre1/images/img_numpy_train_batch_3107_imgs.npy', 'train/pre1/images/img_numpy_train_batch_3108_imgs.npy', 'train/pre1/images/img_numpy_train_batch_310_imgs.npy', 'train/pre1/images/img_numpy_train_batch_3115_imgs.npy', 'train/pre1/images/img_numpy_train_batch_311_imgs.npy', 'train/pre1/images/img_numpy_train_batch_3120_imgs.npy', 'train/pre1/images/img_numpy_train_batch_3122_imgs.npy', 'train/pre1/images/img_numpy_train_batch_3123_imgs.npy', 'train/pre1/images/img_numpy_train_batch_3128_imgs.npy', 'train/pre1/images/img_numpy_train_batch_3129_imgs.npy', 'train/pre1/images/img_numpy_train_batch_312_imgs.npy', 'train/pre1/images/img_numpy_train_batch_3131_imgs.npy', 'train/pre1/images/img_numpy_train_batch_3132_imgs.npy', 'train/pre1/images/img_numpy_train_batch_3135_imgs.npy', 'train/pre1/images/img_numpy_train_batch_3137_imgs.npy', 'train/pre1/images/img_numpy_train_batch_3139_imgs.npy', 'train/pre1/images/img_numpy_train_batch_3141_imgs.npy', 'train/pre1/images/img_numpy_train_batch_3143_imgs.npy', 'train/pre1/images/img_numpy_train_batch_3150_imgs.npy', 'train/pre1/images/img_numpy_train_batch_3151_imgs.npy', 'train/pre1/images/img_numpy_train_batch_3156_imgs.npy', 'train/pre1/images/img_numpy_train_batch_315_imgs.npy', 'train/pre1/images/img_numpy_train_batch_3160_imgs.npy', 'train/pre1/images/img_numpy_train_batch_3162_imgs.npy', 'train/pre1/images/img_numpy_train_batch_3167_imgs.npy', 'train/pre1/images/img_numpy_train_batch_316_imgs.npy', 'train/pre1/images/img_numpy_train_batch_3172_imgs.npy', 'train/pre1/images/img_numpy_train_batch_3173_imgs.npy', 'train/pre1/images/img_numpy_train_batch_3174_imgs.npy', 'train/pre1/images/img_numpy_train_batch_3176_imgs.npy', 'train/pre1/images/img_numpy_train_batch_3181_imgs.npy', 'train/pre1/images/img_numpy_train_batch_3184_imgs.npy', 'train/pre1/images/img_numpy_train_batch_3186_imgs.npy', 'train/pre1/images/img_numpy_train_batch_3187_imgs.npy', 'train/pre1/images/img_numpy_train_batch_3190_imgs.npy', 'train/pre1/images/img_numpy_train_batch_3196_imgs.npy', 'train/pre1/images/img_numpy_train_batch_3198_imgs.npy', 'train/pre1/images/img_numpy_train_batch_319_imgs.npy', 'train/pre1/images/img_numpy_train_batch_31_imgs.npy', 'train/pre1/images/img_numpy_train_batch_320_imgs.npy', 'train/pre1/images/img_numpy_train_batch_3211_imgs.npy', 'train/pre1/images/img_numpy_train_batch_3212_imgs.npy', 'train/pre1/images/img_numpy_train_batch_3217_imgs.npy', 'train/pre1/images/img_numpy_train_batch_3218_imgs.npy', 'train/pre1/images/img_numpy_train_batch_3219_imgs.npy', 'train/pre1/images/img_numpy_train_batch_3227_imgs.npy', 'train/pre1/images/img_numpy_train_batch_3229_imgs.npy', 'train/pre1/images/img_numpy_train_batch_3230_imgs.npy', 'train/pre1/images/img_numpy_train_batch_3238_imgs.npy', 'train/pre1/images/img_numpy_train_batch_3240_imgs.npy', 'train/pre1/images/img_numpy_train_batch_3241_imgs.npy', 'train/pre1/images/img_numpy_train_batch_3243_imgs.npy', 'train/pre1/images/img_numpy_train_batch_3245_imgs.npy', 'train/pre1/images/img_numpy_train_batch_3247_imgs.npy', 'train/pre1/images/img_numpy_train_batch_3251_imgs.npy', 'train/pre1/images/img_numpy_train_batch_3257_imgs.npy', 'train/pre1/images/img_numpy_train_batch_3259_imgs.npy', 'train/pre1/images/img_numpy_train_batch_3260_imgs.npy', 'train/pre1/images/img_numpy_train_batch_3262_imgs.npy', 'train/pre1/images/img_numpy_train_batch_3271_imgs.npy', 'train/pre1/images/img_numpy_train_batch_3273_imgs.npy', 'train/pre1/images/img_numpy_train_batch_3275_imgs.npy', 'train/pre1/images/img_numpy_train_batch_3279_imgs.npy', 'train/pre1/images/img_numpy_train_batch_3280_imgs.npy', 'train/pre1/images/img_numpy_train_batch_3281_imgs.npy', 'train/pre1/images/img_numpy_train_batch_3282_imgs.npy', 'train/pre1/images/img_numpy_train_batch_3283_imgs.npy', 'train/pre1/images/img_numpy_train_batch_3284_imgs.npy', 'train/pre1/images/img_numpy_train_batch_3286_imgs.npy', 'train/pre1/images/img_numpy_train_batch_3290_imgs.npy', 'train/pre1/images/img_numpy_train_batch_3296_imgs.npy', 'train/pre1/images/img_numpy_train_batch_3297_imgs.npy', 'train/pre1/images/img_numpy_train_batch_329_imgs.npy', 'train/pre1/images/img_numpy_train_batch_32_imgs.npy', 'train/pre1/images/img_numpy_train_batch_3300_imgs.npy', 'train/pre1/images/img_numpy_train_batch_3301_imgs.npy', 'train/pre1/images/img_numpy_train_batch_3302_imgs.npy', 'train/pre1/images/img_numpy_train_batch_3303_imgs.npy', 'train/pre1/images/img_numpy_train_batch_3305_imgs.npy', 'train/pre1/images/img_numpy_train_batch_3311_imgs.npy', 'train/pre1/images/img_numpy_train_batch_3314_imgs.npy', 'train/pre1/images/img_numpy_train_batch_3315_imgs.npy', 'train/pre1/images/img_numpy_train_batch_331_imgs.npy', 'train/pre1/images/img_numpy_train_batch_3324_imgs.npy', 'train/pre1/images/img_numpy_train_batch_3334_imgs.npy', 'train/pre1/images/img_numpy_train_batch_3335_imgs.npy', 'train/pre1/images/img_numpy_train_batch_3338_imgs.npy', 'train/pre1/images/img_numpy_train_batch_3342_imgs.npy', 'train/pre1/images/img_numpy_train_batch_3343_imgs.npy', 'train/pre1/images/img_numpy_train_batch_3351_imgs.npy', 'train/pre1/images/img_numpy_train_batch_3352_imgs.npy', 'train/pre1/images/img_numpy_train_batch_3354_imgs.npy', 'train/pre1/images/img_numpy_train_batch_3357_imgs.npy', 'train/pre1/images/img_numpy_train_batch_3366_imgs.npy', 'train/pre1/images/img_numpy_train_batch_3368_imgs.npy', 'train/pre1/images/img_numpy_train_batch_3371_imgs.npy', 'train/pre1/images/img_numpy_train_batch_3380_imgs.npy', 'train/pre1/images/img_numpy_train_batch_3387_imgs.npy', 'train/pre1/images/img_numpy_train_batch_338_imgs.npy', 'train/pre1/images/img_numpy_train_batch_3390_imgs.npy', 'train/pre1/images/img_numpy_train_batch_3393_imgs.npy', 'train/pre1/images/img_numpy_train_batch_3394_imgs.npy', 'train/pre1/images/img_numpy_train_batch_33_imgs.npy', 'train/pre1/images/img_numpy_train_batch_3405_imgs.npy', 'train/pre1/images/img_numpy_train_batch_3406_imgs.npy', 'train/pre1/images/img_numpy_train_batch_3408_imgs.npy', 'train/pre1/images/img_numpy_train_batch_340_imgs.npy', 'train/pre1/images/img_numpy_train_batch_3411_imgs.npy', 'train/pre1/images/img_numpy_train_batch_3412_imgs.npy', 'train/pre1/images/img_numpy_train_batch_3413_imgs.npy', 'train/pre1/images/img_numpy_train_batch_3414_imgs.npy', 'train/pre1/images/img_numpy_train_batch_3416_imgs.npy', 'train/pre1/images/img_numpy_train_batch_3419_imgs.npy', 'train/pre1/images/img_numpy_train_batch_3424_imgs.npy', 'train/pre1/images/img_numpy_train_batch_3427_imgs.npy', 'train/pre1/images/img_numpy_train_batch_3428_imgs.npy', 'train/pre1/images/img_numpy_train_batch_342_imgs.npy', 'train/pre1/images/img_numpy_train_batch_3436_imgs.npy', 'train/pre1/images/img_numpy_train_batch_3437_imgs.npy', 'train/pre1/images/img_numpy_train_batch_3440_imgs.npy', 'train/pre1/images/img_numpy_train_batch_3443_imgs.npy', 'train/pre1/images/img_numpy_train_batch_3444_imgs.npy', 'train/pre1/images/img_numpy_train_batch_3448_imgs.npy', 'train/pre1/images/img_numpy_train_batch_3458_imgs.npy', 'train/pre1/images/img_numpy_train_batch_3464_imgs.npy', 'train/pre1/images/img_numpy_train_batch_3467_imgs.npy', 'train/pre1/images/img_numpy_train_batch_3470_imgs.npy', 'train/pre1/images/img_numpy_train_batch_3472_imgs.npy', 'train/pre1/images/img_numpy_train_batch_3478_imgs.npy', 'train/pre1/images/img_numpy_train_batch_3479_imgs.npy', 'train/pre1/images/img_numpy_train_batch_3484_imgs.npy', 'train/pre1/images/img_numpy_train_batch_3488_imgs.npy', 'train/pre1/images/img_numpy_train_batch_348_imgs.npy', 'train/pre1/images/img_numpy_train_batch_3490_imgs.npy', 'train/pre1/images/img_numpy_train_batch_3491_imgs.npy', 'train/pre1/images/img_numpy_train_batch_3495_imgs.npy', 'train/pre1/images/img_numpy_train_batch_3496_imgs.npy', 'train/pre1/images/img_numpy_train_batch_3502_imgs.npy', 'train/pre1/images/img_numpy_train_batch_3510_imgs.npy', 'train/pre1/images/img_numpy_train_batch_3512_imgs.npy', 'train/pre1/images/img_numpy_train_batch_3517_imgs.npy', 'train/pre1/images/img_numpy_train_batch_3518_imgs.npy', 'train/pre1/images/img_numpy_train_batch_3520_imgs.npy', 'train/pre1/images/img_numpy_train_batch_3525_imgs.npy', 'train/pre1/images/img_numpy_train_batch_3527_imgs.npy', 'train/pre1/images/img_numpy_train_batch_3532_imgs.npy', 'train/pre1/images/img_numpy_train_batch_3534_imgs.npy', 'train/pre1/images/img_numpy_train_batch_3535_imgs.npy', 'train/pre1/images/img_numpy_train_batch_3536_imgs.npy', 'train/pre1/images/img_numpy_train_batch_3540_imgs.npy', 'train/pre1/images/img_numpy_train_batch_3542_imgs.npy', 'train/pre1/images/img_numpy_train_batch_3546_imgs.npy', 'train/pre1/images/img_numpy_train_batch_3559_imgs.npy', 'train/pre1/images/img_numpy_train_batch_3562_imgs.npy', 'train/pre1/images/img_numpy_train_batch_3563_imgs.npy', 'train/pre1/images/img_numpy_train_batch_3564_imgs.npy', 'train/pre1/images/img_numpy_train_batch_3566_imgs.npy', 'train/pre1/images/img_numpy_train_batch_3571_imgs.npy', 'train/pre1/images/img_numpy_train_batch_3572_imgs.npy', 'train/pre1/images/img_numpy_train_batch_3580_imgs.npy', 'train/pre1/images/img_numpy_train_batch_3583_imgs.npy', 'train/pre1/images/img_numpy_train_batch_3584_imgs.npy', 'train/pre1/images/img_numpy_train_batch_3588_imgs.npy', 'train/pre1/images/img_numpy_train_batch_3589_imgs.npy', 'train/pre1/images/img_numpy_train_batch_3590_imgs.npy', 'train/pre1/images/img_numpy_train_batch_3591_imgs.npy', 'train/pre1/images/img_numpy_train_batch_3593_imgs.npy', 'train/pre1/images/img_numpy_train_batch_3594_imgs.npy', 'train/pre1/images/img_numpy_train_batch_359_imgs.npy', 'train/pre1/images/img_numpy_train_batch_3604_imgs.npy', 'train/pre1/images/img_numpy_train_batch_360_imgs.npy', 'train/pre1/images/img_numpy_train_batch_3612_imgs.npy', 'train/pre1/images/img_numpy_train_batch_3614_imgs.npy', 'train/pre1/images/img_numpy_train_batch_3619_imgs.npy', 'train/pre1/images/img_numpy_train_batch_361_imgs.npy', 'train/pre1/images/img_numpy_train_batch_3620_imgs.npy', 'train/pre1/images/img_numpy_train_batch_3621_imgs.npy', 'train/pre1/images/img_numpy_train_batch_3627_imgs.npy', 'train/pre1/images/img_numpy_train_batch_3629_imgs.npy', 'train/pre1/images/img_numpy_train_batch_3630_imgs.npy', 'train/pre1/images/img_numpy_train_batch_3633_imgs.npy', 'train/pre1/images/img_numpy_train_batch_3638_imgs.npy', 'train/pre1/images/img_numpy_train_batch_3639_imgs.npy', 'train/pre1/images/img_numpy_train_batch_363_imgs.npy', 'train/pre1/images/img_numpy_train_batch_3642_imgs.npy', 'train/pre1/images/img_numpy_train_batch_3643_imgs.npy', 'train/pre1/images/img_numpy_train_batch_3645_imgs.npy', 'train/pre1/images/img_numpy_train_batch_3646_imgs.npy', 'train/pre1/images/img_numpy_train_batch_3650_imgs.npy', 'train/pre1/images/img_numpy_train_batch_3651_imgs.npy', 'train/pre1/images/img_numpy_train_batch_3652_imgs.npy', 'train/pre1/images/img_numpy_train_batch_3653_imgs.npy', 'train/pre1/images/img_numpy_train_batch_3658_imgs.npy', 'train/pre1/images/img_numpy_train_batch_3661_imgs.npy', 'train/pre1/images/img_numpy_train_batch_3665_imgs.npy', 'train/pre1/images/img_numpy_train_batch_3667_imgs.npy', 'train/pre1/images/img_numpy_train_batch_3672_imgs.npy', 'train/pre1/images/img_numpy_train_batch_3677_imgs.npy', 'train/pre1/images/img_numpy_train_batch_3679_imgs.npy', 'train/pre1/images/img_numpy_train_batch_3680_imgs.npy', 'train/pre1/images/img_numpy_train_batch_3684_imgs.npy', 'train/pre1/images/img_numpy_train_batch_3685_imgs.npy', 'train/pre1/images/img_numpy_train_batch_3686_imgs.npy', 'train/pre1/images/img_numpy_train_batch_3688_imgs.npy', 'train/pre1/images/img_numpy_train_batch_3689_imgs.npy', 'train/pre1/images/img_numpy_train_batch_3693_imgs.npy', 'train/pre1/images/img_numpy_train_batch_3701_imgs.npy', 'train/pre1/images/img_numpy_train_batch_3704_imgs.npy', 'train/pre1/images/img_numpy_train_batch_3705_imgs.npy', 'train/pre1/images/img_numpy_train_batch_3706_imgs.npy', 'train/pre1/images/img_numpy_train_batch_370_imgs.npy', 'train/pre1/images/img_numpy_train_batch_3714_imgs.npy', 'train/pre1/images/img_numpy_train_batch_3718_imgs.npy', 'train/pre1/images/img_numpy_train_batch_3719_imgs.npy', 'train/pre1/images/img_numpy_train_batch_3721_imgs.npy', 'train/pre1/images/img_numpy_train_batch_3729_imgs.npy', 'train/pre1/images/img_numpy_train_batch_3733_imgs.npy', 'train/pre1/images/img_numpy_train_batch_3736_imgs.npy', 'train/pre1/images/img_numpy_train_batch_3737_imgs.npy', 'train/pre1/images/img_numpy_train_batch_3738_imgs.npy', 'train/pre1/images/img_numpy_train_batch_3742_imgs.npy', 'train/pre1/images/img_numpy_train_batch_374_imgs.npy', 'train/pre1/images/img_numpy_train_batch_3761_imgs.npy', 'train/pre1/images/img_numpy_train_batch_3766_imgs.npy', 'train/pre1/images/img_numpy_train_batch_3771_imgs.npy', 'train/pre1/images/img_numpy_train_batch_3778_imgs.npy', 'train/pre1/images/img_numpy_train_batch_3780_imgs.npy', 'train/pre1/images/img_numpy_train_batch_3783_imgs.npy', 'train/pre1/images/img_numpy_train_batch_3784_imgs.npy', 'train/pre1/images/img_numpy_train_batch_3785_imgs.npy', 'train/pre1/images/img_numpy_train_batch_3790_imgs.npy', 'train/pre1/images/img_numpy_train_batch_3809_imgs.npy', 'train/pre1/images/img_numpy_train_batch_3810_imgs.npy', 'train/pre1/images/img_numpy_train_batch_3812_imgs.npy', 'train/pre1/images/img_numpy_train_batch_3818_imgs.npy', 'train/pre1/images/img_numpy_train_batch_3825_imgs.npy', 'train/pre1/images/img_numpy_train_batch_3826_imgs.npy', 'train/pre1/images/img_numpy_train_batch_3829_imgs.npy', 'train/pre1/images/img_numpy_train_batch_382_imgs.npy', 'train/pre1/images/img_numpy_train_batch_3831_imgs.npy', 'train/pre1/images/img_numpy_train_batch_3832_imgs.npy', 'train/pre1/images/img_numpy_train_batch_3834_imgs.npy', 'train/pre1/images/img_numpy_train_batch_3836_imgs.npy', 'train/pre1/images/img_numpy_train_batch_3839_imgs.npy', 'train/pre1/images/img_numpy_train_batch_3842_imgs.npy', 'train/pre1/images/img_numpy_train_batch_3845_imgs.npy', 'train/pre1/images/img_numpy_train_batch_3846_imgs.npy', 'train/pre1/images/img_numpy_train_batch_3849_imgs.npy', 'train/pre1/images/img_numpy_train_batch_3850_imgs.npy', 'train/pre1/images/img_numpy_train_batch_3852_imgs.npy', 'train/pre1/images/img_numpy_train_batch_3858_imgs.npy', 'train/pre1/images/img_numpy_train_batch_3862_imgs.npy', 'train/pre1/images/img_numpy_train_batch_3868_imgs.npy', 'train/pre1/images/img_numpy_train_batch_3870_imgs.npy', 'train/pre1/images/img_numpy_train_batch_3871_imgs.npy', 'train/pre1/images/img_numpy_train_batch_3873_imgs.npy', 'train/pre1/images/img_numpy_train_batch_3877_imgs.npy', 'train/pre1/images/img_numpy_train_batch_387_imgs.npy', 'train/pre1/images/img_numpy_train_batch_3881_imgs.npy', 'train/pre1/images/img_numpy_train_batch_3887_imgs.npy', 'train/pre1/images/img_numpy_train_batch_3888_imgs.npy', 'train/pre1/images/img_numpy_train_batch_3896_imgs.npy', 'train/pre1/images/img_numpy_train_batch_3900_imgs.npy', 'train/pre1/images/img_numpy_train_batch_3903_imgs.npy', 'train/pre1/images/img_numpy_train_batch_3904_imgs.npy', 'train/pre1/images/img_numpy_train_batch_3910_imgs.npy', 'train/pre1/images/img_numpy_train_batch_3918_imgs.npy', 'train/pre1/images/img_numpy_train_batch_3919_imgs.npy', 'train/pre1/images/img_numpy_train_batch_391_imgs.npy', 'train/pre1/images/img_numpy_train_batch_3921_imgs.npy', 'train/pre1/images/img_numpy_train_batch_3922_imgs.npy', 'train/pre1/images/img_numpy_train_batch_3927_imgs.npy', 'train/pre1/images/img_numpy_train_batch_3928_imgs.npy', 'train/pre1/images/img_numpy_train_batch_3933_imgs.npy', 'train/pre1/images/img_numpy_train_batch_3937_imgs.npy', 'train/pre1/images/img_numpy_train_batch_3939_imgs.npy', 'train/pre1/images/img_numpy_train_batch_3945_imgs.npy', 'train/pre1/images/img_numpy_train_batch_3946_imgs.npy', 'train/pre1/images/img_numpy_train_batch_3950_imgs.npy', 'train/pre1/images/img_numpy_train_batch_3952_imgs.npy', 'train/pre1/images/img_numpy_train_batch_3953_imgs.npy', 'train/pre1/images/img_numpy_train_batch_3959_imgs.npy', 'train/pre1/images/img_numpy_train_batch_395_imgs.npy', 'train/pre1/images/img_numpy_train_batch_3960_imgs.npy', 'train/pre1/images/img_numpy_train_batch_3964_imgs.npy', 'train/pre1/images/img_numpy_train_batch_3969_imgs.npy', 'train/pre1/images/img_numpy_train_batch_3975_imgs.npy', 'train/pre1/images/img_numpy_train_batch_3989_imgs.npy', 'train/pre1/images/img_numpy_train_batch_3990_imgs.npy', 'train/pre1/images/img_numpy_train_batch_3994_imgs.npy', 'train/pre1/images/img_numpy_train_batch_3996_imgs.npy', 'train/pre1/images/img_numpy_train_batch_3999_imgs.npy', 'train/pre1/images/img_numpy_train_batch_39_imgs.npy', 'train/pre1/images/img_numpy_train_batch_4001_imgs.npy', 'train/pre1/images/img_numpy_train_batch_4008_imgs.npy', 'train/pre1/images/img_numpy_train_batch_4010_imgs.npy', 'train/pre1/images/img_numpy_train_batch_4014_imgs.npy', 'train/pre1/images/img_numpy_train_batch_4016_imgs.npy', 'train/pre1/images/img_numpy_train_batch_401_imgs.npy', 'train/pre1/images/img_numpy_train_batch_4022_imgs.npy', 'train/pre1/images/img_numpy_train_batch_4024_imgs.npy', 'train/pre1/images/img_numpy_train_batch_4025_imgs.npy', 'train/pre1/images/img_numpy_train_batch_4028_imgs.npy', 'train/pre1/images/img_numpy_train_batch_4030_imgs.npy', 'train/pre1/images/img_numpy_train_batch_4036_imgs.npy', 'train/pre1/images/img_numpy_train_batch_4047_imgs.npy', 'train/pre1/images/img_numpy_train_batch_4048_imgs.npy', 'train/pre1/images/img_numpy_train_batch_4052_imgs.npy', 'train/pre1/images/img_numpy_train_batch_4053_imgs.npy', 'train/pre1/images/img_numpy_train_batch_4056_imgs.npy', 'train/pre1/images/img_numpy_train_batch_4058_imgs.npy', 'train/pre1/images/img_numpy_train_batch_4066_imgs.npy', 'train/pre1/images/img_numpy_train_batch_4067_imgs.npy', 'train/pre1/images/img_numpy_train_batch_4068_imgs.npy', 'train/pre1/images/img_numpy_train_batch_4070_imgs.npy', 'train/pre1/images/img_numpy_train_batch_4072_imgs.npy', 'train/pre1/images/img_numpy_train_batch_4074_imgs.npy', 'train/pre1/images/img_numpy_train_batch_4076_imgs.npy', 'train/pre1/images/img_numpy_train_batch_4077_imgs.npy', 'train/pre1/images/img_numpy_train_batch_4082_imgs.npy', 'train/pre1/images/img_numpy_train_batch_4086_imgs.npy', 'train/pre1/images/img_numpy_train_batch_408_imgs.npy', 'train/pre1/images/img_numpy_train_batch_4091_imgs.npy', 'train/pre1/images/img_numpy_train_batch_4096_imgs.npy', 'train/pre1/images/img_numpy_train_batch_4097_imgs.npy', 'train/pre1/images/img_numpy_train_batch_409_imgs.npy', 'train/pre1/images/img_numpy_train_batch_40_imgs.npy', 'train/pre1/images/img_numpy_train_batch_4103_imgs.npy', 'train/pre1/images/img_numpy_train_batch_4117_imgs.npy', 'train/pre1/images/img_numpy_train_batch_4123_imgs.npy', 'train/pre1/images/img_numpy_train_batch_4124_imgs.npy', 'train/pre1/images/img_numpy_train_batch_4126_imgs.npy', 'train/pre1/images/img_numpy_train_batch_4133_imgs.npy', 'train/pre1/images/img_numpy_train_batch_4135_imgs.npy', 'train/pre1/images/img_numpy_train_batch_4138_imgs.npy', 'train/pre1/images/img_numpy_train_batch_413_imgs.npy', 'train/pre1/images/img_numpy_train_batch_4142_imgs.npy', 'train/pre1/images/img_numpy_train_batch_4143_imgs.npy', 'train/pre1/images/img_numpy_train_batch_4151_imgs.npy', 'train/pre1/images/img_numpy_train_batch_4152_imgs.npy', 'train/pre1/images/img_numpy_train_batch_4154_imgs.npy', 'train/pre1/images/img_numpy_train_batch_4155_imgs.npy', 'train/pre1/images/img_numpy_train_batch_4158_imgs.npy', 'train/pre1/images/img_numpy_train_batch_4159_imgs.npy', 'train/pre1/images/img_numpy_train_batch_4162_imgs.npy', 'train/pre1/images/img_numpy_train_batch_416_imgs.npy', 'train/pre1/images/img_numpy_train_batch_418_imgs.npy', 'train/pre1/images/img_numpy_train_batch_425_imgs.npy', 'train/pre1/images/img_numpy_train_batch_426_imgs.npy', 'train/pre1/images/img_numpy_train_batch_428_imgs.npy', 'train/pre1/images/img_numpy_train_batch_439_imgs.npy', 'train/pre1/images/img_numpy_train_batch_440_imgs.npy', 'train/pre1/images/img_numpy_train_batch_456_imgs.npy', 'train/pre1/images/img_numpy_train_batch_459_imgs.npy', 'train/pre1/images/img_numpy_train_batch_462_imgs.npy', 'train/pre1/images/img_numpy_train_batch_463_imgs.npy', 'train/pre1/images/img_numpy_train_batch_465_imgs.npy', 'train/pre1/images/img_numpy_train_batch_467_imgs.npy', 'train/pre1/images/img_numpy_train_batch_468_imgs.npy', 'train/pre1/images/img_numpy_train_batch_475_imgs.npy', 'train/pre1/images/img_numpy_train_batch_476_imgs.npy', 'train/pre1/images/img_numpy_train_batch_477_imgs.npy', 'train/pre1/images/img_numpy_train_batch_478_imgs.npy', 'train/pre1/images/img_numpy_train_batch_49_imgs.npy', 'train/pre1/images/img_numpy_train_batch_4_imgs.npy', 'train/pre1/images/img_numpy_train_batch_506_imgs.npy', 'train/pre1/images/img_numpy_train_batch_507_imgs.npy', 'train/pre1/images/img_numpy_train_batch_508_imgs.npy', 'train/pre1/images/img_numpy_train_batch_514_imgs.npy', 'train/pre1/images/img_numpy_train_batch_515_imgs.npy', 'train/pre1/images/img_numpy_train_batch_522_imgs.npy', 'train/pre1/images/img_numpy_train_batch_52_imgs.npy', 'train/pre1/images/img_numpy_train_batch_535_imgs.npy', 'train/pre1/images/img_numpy_train_batch_538_imgs.npy', 'train/pre1/images/img_numpy_train_batch_541_imgs.npy', 'train/pre1/images/img_numpy_train_batch_544_imgs.npy', 'train/pre1/images/img_numpy_train_batch_546_imgs.npy', 'train/pre1/images/img_numpy_train_batch_554_imgs.npy', 'train/pre1/images/img_numpy_train_batch_556_imgs.npy', 'train/pre1/images/img_numpy_train_batch_562_imgs.npy', 'train/pre1/images/img_numpy_train_batch_564_imgs.npy', 'train/pre1/images/img_numpy_train_batch_565_imgs.npy', 'train/pre1/images/img_numpy_train_batch_573_imgs.npy', 'train/pre1/images/img_numpy_train_batch_575_imgs.npy', 'train/pre1/images/img_numpy_train_batch_57_imgs.npy', 'train/pre1/images/img_numpy_train_batch_586_imgs.npy', 'train/pre1/images/img_numpy_train_batch_58_imgs.npy', 'train/pre1/images/img_numpy_train_batch_591_imgs.npy', 'train/pre1/images/img_numpy_train_batch_592_imgs.npy', 'train/pre1/images/img_numpy_train_batch_593_imgs.npy', 'train/pre1/images/img_numpy_train_batch_594_imgs.npy', 'train/pre1/images/img_numpy_train_batch_595_imgs.npy', 'train/pre1/images/img_numpy_train_batch_597_imgs.npy', 'train/pre1/images/img_numpy_train_batch_59_imgs.npy', 'train/pre1/images/img_numpy_train_batch_603_imgs.npy', 'train/pre1/images/img_numpy_train_batch_606_imgs.npy', 'train/pre1/images/img_numpy_train_batch_607_imgs.npy', 'train/pre1/images/img_numpy_train_batch_610_imgs.npy', 'train/pre1/images/img_numpy_train_batch_611_imgs.npy', 'train/pre1/images/img_numpy_train_batch_618_imgs.npy', 'train/pre1/images/img_numpy_train_batch_619_imgs.npy', 'train/pre1/images/img_numpy_train_batch_625_imgs.npy', 'train/pre1/images/img_numpy_train_batch_628_imgs.npy', 'train/pre1/images/img_numpy_train_batch_629_imgs.npy', 'train/pre1/images/img_numpy_train_batch_633_imgs.npy', 'train/pre1/images/img_numpy_train_batch_634_imgs.npy', 'train/pre1/images/img_numpy_train_batch_640_imgs.npy', 'train/pre1/images/img_numpy_train_batch_644_imgs.npy', 'train/pre1/images/img_numpy_train_batch_646_imgs.npy', 'train/pre1/images/img_numpy_train_batch_647_imgs.npy', 'train/pre1/images/img_numpy_train_batch_64_imgs.npy', 'train/pre1/images/img_numpy_train_batch_655_imgs.npy', 'train/pre1/images/img_numpy_train_batch_657_imgs.npy', 'train/pre1/images/img_numpy_train_batch_659_imgs.npy', 'train/pre1/images/img_numpy_train_batch_65_imgs.npy', 'train/pre1/images/img_numpy_train_batch_660_imgs.npy', 'train/pre1/images/img_numpy_train_batch_662_imgs.npy', 'train/pre1/images/img_numpy_train_batch_665_imgs.npy', 'train/pre1/images/img_numpy_train_batch_667_imgs.npy', 'train/pre1/images/img_numpy_train_batch_668_imgs.npy', 'train/pre1/images/img_numpy_train_batch_66_imgs.npy', 'train/pre1/images/img_numpy_train_batch_672_imgs.npy', 'train/pre1/images/img_numpy_train_batch_674_imgs.npy', 'train/pre1/images/img_numpy_train_batch_675_imgs.npy', 'train/pre1/images/img_numpy_train_batch_678_imgs.npy', 'train/pre1/images/img_numpy_train_batch_679_imgs.npy', 'train/pre1/images/img_numpy_train_batch_67_imgs.npy', 'train/pre1/images/img_numpy_train_batch_684_imgs.npy', 'train/pre1/images/img_numpy_train_batch_687_imgs.npy', 'train/pre1/images/img_numpy_train_batch_688_imgs.npy', 'train/pre1/images/img_numpy_train_batch_68_imgs.npy', 'train/pre1/images/img_numpy_train_batch_690_imgs.npy', 'train/pre1/images/img_numpy_train_batch_691_imgs.npy', 'train/pre1/images/img_numpy_train_batch_696_imgs.npy', 'train/pre1/images/img_numpy_train_batch_701_imgs.npy', 'train/pre1/images/img_numpy_train_batch_704_imgs.npy', 'train/pre1/images/img_numpy_train_batch_708_imgs.npy', 'train/pre1/images/img_numpy_train_batch_70_imgs.npy', 'train/pre1/images/img_numpy_train_batch_713_imgs.npy', 'train/pre1/images/img_numpy_train_batch_716_imgs.npy', 'train/pre1/images/img_numpy_train_batch_721_imgs.npy', 'train/pre1/images/img_numpy_train_batch_725_imgs.npy', 'train/pre1/images/img_numpy_train_batch_728_imgs.npy', 'train/pre1/images/img_numpy_train_batch_730_imgs.npy', 'train/pre1/images/img_numpy_train_batch_735_imgs.npy', 'train/pre1/images/img_numpy_train_batch_742_imgs.npy', 'train/pre1/images/img_numpy_train_batch_745_imgs.npy', 'train/pre1/images/img_numpy_train_batch_749_imgs.npy', 'train/pre1/images/img_numpy_train_batch_74_imgs.npy', 'train/pre1/images/img_numpy_train_batch_752_imgs.npy', 'train/pre1/images/img_numpy_train_batch_761_imgs.npy', 'train/pre1/images/img_numpy_train_batch_762_imgs.npy', 'train/pre1/images/img_numpy_train_batch_764_imgs.npy', 'train/pre1/images/img_numpy_train_batch_765_imgs.npy', 'train/pre1/images/img_numpy_train_batch_770_imgs.npy', 'train/pre1/images/img_numpy_train_batch_772_imgs.npy', 'train/pre1/images/img_numpy_train_batch_773_imgs.npy', 'train/pre1/images/img_numpy_train_batch_777_imgs.npy', 'train/pre1/images/img_numpy_train_batch_77_imgs.npy', 'train/pre1/images/img_numpy_train_batch_780_imgs.npy', 'train/pre1/images/img_numpy_train_batch_784_imgs.npy', 'train/pre1/images/img_numpy_train_batch_785_imgs.npy', 'train/pre1/images/img_numpy_train_batch_78_imgs.npy', 'train/pre1/images/img_numpy_train_batch_792_imgs.npy', 'train/pre1/images/img_numpy_train_batch_797_imgs.npy', 'train/pre1/images/img_numpy_train_batch_7_imgs.npy', 'train/pre1/images/img_numpy_train_batch_803_imgs.npy', 'train/pre1/images/img_numpy_train_batch_805_imgs.npy', 'train/pre1/images/img_numpy_train_batch_807_imgs.npy', 'train/pre1/images/img_numpy_train_batch_80_imgs.npy', 'train/pre1/images/img_numpy_train_batch_813_imgs.npy', 'train/pre1/images/img_numpy_train_batch_815_imgs.npy', 'train/pre1/images/img_numpy_train_batch_824_imgs.npy', 'train/pre1/images/img_numpy_train_batch_827_imgs.npy', 'train/pre1/images/img_numpy_train_batch_831_imgs.npy', 'train/pre1/images/img_numpy_train_batch_832_imgs.npy', 'train/pre1/images/img_numpy_train_batch_833_imgs.npy', 'train/pre1/images/img_numpy_train_batch_836_imgs.npy', 'train/pre1/images/img_numpy_train_batch_83_imgs.npy', 'train/pre1/images/img_numpy_train_batch_846_imgs.npy', 'train/pre1/images/img_numpy_train_batch_847_imgs.npy', 'train/pre1/images/img_numpy_train_batch_850_imgs.npy', 'train/pre1/images/img_numpy_train_batch_853_imgs.npy', 'train/pre1/images/img_numpy_train_batch_868_imgs.npy', 'train/pre1/images/img_numpy_train_batch_871_imgs.npy', 'train/pre1/images/img_numpy_train_batch_872_imgs.npy', 'train/pre1/images/img_numpy_train_batch_878_imgs.npy', 'train/pre1/images/img_numpy_train_batch_879_imgs.npy', 'train/pre1/images/img_numpy_train_batch_87_imgs.npy', 'train/pre1/images/img_numpy_train_batch_881_imgs.npy', 'train/pre1/images/img_numpy_train_batch_882_imgs.npy', 'train/pre1/images/img_numpy_train_batch_886_imgs.npy', 'train/pre1/images/img_numpy_train_batch_888_imgs.npy', 'train/pre1/images/img_numpy_train_batch_891_imgs.npy', 'train/pre1/images/img_numpy_train_batch_895_imgs.npy', 'train/pre1/images/img_numpy_train_batch_897_imgs.npy', 'train/pre1/images/img_numpy_train_batch_899_imgs.npy', 'train/pre1/images/img_numpy_train_batch_8_imgs.npy', 'train/pre1/images/img_numpy_train_batch_900_imgs.npy', 'train/pre1/images/img_numpy_train_batch_903_imgs.npy', 'train/pre1/images/img_numpy_train_batch_907_imgs.npy', 'train/pre1/images/img_numpy_train_batch_909_imgs.npy', 'train/pre1/images/img_numpy_train_batch_910_imgs.npy', 'train/pre1/images/img_numpy_train_batch_915_imgs.npy', 'train/pre1/images/img_numpy_train_batch_916_imgs.npy', 'train/pre1/images/img_numpy_train_batch_919_imgs.npy', 'train/pre1/images/img_numpy_train_batch_91_imgs.npy', 'train/pre1/images/img_numpy_train_batch_927_imgs.npy', 'train/pre1/images/img_numpy_train_batch_936_imgs.npy', 'train/pre1/images/img_numpy_train_batch_938_imgs.npy', 'train/pre1/images/img_numpy_train_batch_940_imgs.npy', 'train/pre1/images/img_numpy_train_batch_947_imgs.npy', 'train/pre1/images/img_numpy_train_batch_949_imgs.npy', 'train/pre1/images/img_numpy_train_batch_950_imgs.npy', 'train/pre1/images/img_numpy_train_batch_953_imgs.npy', 'train/pre1/images/img_numpy_train_batch_956_imgs.npy', 'train/pre1/images/img_numpy_train_batch_959_imgs.npy', 'train/pre1/images/img_numpy_train_batch_960_imgs.npy', 'train/pre1/images/img_numpy_train_batch_963_imgs.npy', 'train/pre1/images/img_numpy_train_batch_974_imgs.npy', 'train/pre1/images/img_numpy_train_batch_979_imgs.npy', 'train/pre1/images/img_numpy_train_batch_97_imgs.npy', 'train/pre1/images/img_numpy_train_batch_980_imgs.npy', 'train/pre1/images/img_numpy_train_batch_996_imgs.npy', 'train/pre1/images/img_numpy_train_batch_9_imgs.npy']\n"
     ]
    }
   ],
   "source": [
    "print(len(images))\n",
    "images_not_found = [x for x in lines if x not in images]\n",
    "print(images_not_found)"
   ]
  },
  {
   "cell_type": "code",
   "execution_count": 4,
   "id": "fe40d41c",
   "metadata": {},
   "outputs": [
    {
     "name": "stdout",
     "output_type": "stream",
     "text": [
      "Model: \"sequential\"\n",
      "_________________________________________________________________\n",
      "Layer (type)                 Output Shape              Param #   \n",
      "=================================================================\n",
      "conv2d (Conv2D)              (None, 998, 998, 32)      896       \n",
      "_________________________________________________________________\n",
      "max_pooling2d (MaxPooling2D) (None, 499, 499, 32)      0         \n",
      "_________________________________________________________________\n",
      "flatten (Flatten)            (None, 7968032)           0         \n",
      "_________________________________________________________________\n",
      "dense (Dense)                (None, 128)               1019908224\n",
      "_________________________________________________________________\n",
      "dense_1 (Dense)              (None, 1)                 129       \n",
      "=================================================================\n",
      "Total params: 1,019,909,249\n",
      "Trainable params: 1,019,909,249\n",
      "Non-trainable params: 0\n",
      "_________________________________________________________________\n"
     ]
    }
   ],
   "source": [
    "# Load the model\n",
    "model = tf.keras.models.load_model('baseline.h5' , compile=False)\n",
    "class CustomAdam(tf.keras.optimizers.Adam):\n",
    "    def __init__(self, *args, **kwargs):\n",
    "        super(CustomAdam, self).__init__(*args, **kwargs)\n",
    "\n",
    "    def get_config(self):\n",
    "        config = super(CustomAdam, self).get_config()\n",
    "        return config\n",
    "\n",
    "# Register the custom optimizer in TensorFlow's custom objects\n",
    "tf.keras.utils.get_custom_objects().update({'Custom>Adam': CustomAdam})\n",
    "# Display the model architecture\n",
    "model.summary()"
   ]
  },
  {
   "cell_type": "code",
   "execution_count": 18,
   "id": "07b695c1",
   "metadata": {},
   "outputs": [],
   "source": [
    "model.compile(optimizer='adam', loss='mean_squared_error', metrics=['accuracy'])\n",
    "\n",
    "def evaluate_batch(batch_name):\n",
    "    imgs = read_data_from_s3(s3_bucket, f'train/pre1/images/img_numpy_train_batch_{batch_name}_imgs.npy')\n",
    "    lbls = read_data_from_s3(s3_bucket, f'train/pre1/labels/img_numpy_train_batch_{batch_name}_lbls.npy')\n",
    "    loss, accuracy = model.evaluate(imgs, lbls)\n",
    "    return accuracy"
   ]
  },
  {
   "cell_type": "code",
   "execution_count": 21,
   "id": "3aa83d3e",
   "metadata": {
    "scrolled": true
   },
   "outputs": [
    {
     "name": "stdout",
     "output_type": "stream",
     "text": [
      "137\n",
      "1/1 [==============================] - 2s 2s/step - loss: 0.1975 - accuracy: 0.6500\n",
      "1380\n",
      "1/1 [==============================] - 2s 2s/step - loss: 0.1994 - accuracy: 0.7000\n",
      "1381\n",
      "1/1 [==============================] - 2s 2s/step - loss: 0.2147 - accuracy: 0.6000\n",
      "1382\n",
      "1/1 [==============================] - 2s 2s/step - loss: 0.1455 - accuracy: 0.9000\n",
      "1384\n",
      "1/1 [==============================] - 2s 2s/step - loss: 0.1318 - accuracy: 0.8000\n",
      "1387\n",
      "1/1 [==============================] - 2s 2s/step - loss: 0.1796 - accuracy: 0.8000\n",
      "1389\n",
      "1/1 [==============================] - 2s 2s/step - loss: 0.1705 - accuracy: 0.7500\n",
      "138\n",
      "1/1 [==============================] - 2s 2s/step - loss: 0.1621 - accuracy: 0.7500\n",
      "1390\n",
      "1/1 [==============================] - 2s 2s/step - loss: 0.2454 - accuracy: 0.6000\n",
      "1391\n",
      "1/1 [==============================] - 2s 2s/step - loss: 0.1544 - accuracy: 0.6500\n",
      "1392\n",
      "1/1 [==============================] - 2s 2s/step - loss: 0.1381 - accuracy: 0.9000\n",
      "1393\n",
      "1/1 [==============================] - 2s 2s/step - loss: 0.1361 - accuracy: 0.7500\n",
      "1394\n",
      "1/1 [==============================] - 2s 2s/step - loss: 0.1169 - accuracy: 0.8500\n",
      "1395\n",
      "1/1 [==============================] - 2s 2s/step - loss: 0.1286 - accuracy: 0.8000\n",
      "1396\n",
      "1/1 [==============================] - 2s 2s/step - loss: 0.1761 - accuracy: 0.8500\n",
      "1397\n",
      "1/1 [==============================] - 2s 2s/step - loss: 0.1483 - accuracy: 0.8500\n",
      "1398\n",
      "1/1 [==============================] - 2s 2s/step - loss: 0.1324 - accuracy: 0.9000\n",
      "1399\n",
      "1/1 [==============================] - 2s 2s/step - loss: 0.2184 - accuracy: 0.6500\n",
      "1400\n",
      "1/1 [==============================] - 2s 2s/step - loss: 0.1246 - accuracy: 0.8500\n",
      "1403\n",
      "1/1 [==============================] - 2s 2s/step - loss: 0.2188 - accuracy: 0.8000\n",
      "1404\n",
      "1/1 [==============================] - 2s 2s/step - loss: 0.1926 - accuracy: 0.7500\n",
      "1405\n",
      "1/1 [==============================] - 2s 2s/step - loss: 0.2050 - accuracy: 0.6500\n",
      "1406\n",
      "1/1 [==============================] - 2s 2s/step - loss: 0.0935 - accuracy: 0.9500\n",
      "1407\n",
      "1/1 [==============================] - 2s 2s/step - loss: 0.0963 - accuracy: 0.9000\n",
      "1408\n",
      "1/1 [==============================] - 2s 2s/step - loss: 0.2216 - accuracy: 0.6500\n",
      "1409\n",
      "1/1 [==============================] - 2s 2s/step - loss: 0.1529 - accuracy: 0.8500\n",
      "1411\n",
      "1/1 [==============================] - 2s 2s/step - loss: 0.1324 - accuracy: 0.8500\n",
      "1412\n",
      "1/1 [==============================] - 2s 2s/step - loss: 0.1468 - accuracy: 0.8500\n",
      "1414\n",
      "1/1 [==============================] - 2s 2s/step - loss: 0.1314 - accuracy: 0.9500\n",
      "1415\n",
      "1/1 [==============================] - 2s 2s/step - loss: 0.1874 - accuracy: 0.6500\n",
      "1417\n",
      "1/1 [==============================] - 2s 2s/step - loss: 0.0882 - accuracy: 0.9500\n",
      "1419\n",
      "1/1 [==============================] - 2s 2s/step - loss: 0.1272 - accuracy: 0.8500\n",
      "141\n",
      "1/1 [==============================] - 2s 2s/step - loss: 0.1540 - accuracy: 0.8000\n",
      "1420\n",
      "1/1 [==============================] - 2s 2s/step - loss: 0.1783 - accuracy: 0.8000\n",
      "1421\n",
      "1/1 [==============================] - 2s 2s/step - loss: 0.1451 - accuracy: 0.9000\n",
      "1424\n",
      "1/1 [==============================] - 2s 2s/step - loss: 0.1688 - accuracy: 0.8500\n",
      "1425\n",
      "1/1 [==============================] - 2s 2s/step - loss: 0.2471 - accuracy: 0.6500\n",
      "1427\n",
      "1/1 [==============================] - 2s 2s/step - loss: 0.1049 - accuracy: 0.9000\n",
      "1428\n",
      "1/1 [==============================] - 2s 2s/step - loss: 0.0901 - accuracy: 0.9500\n",
      "1429\n",
      "1/1 [==============================] - 2s 2s/step - loss: 0.1855 - accuracy: 0.7000\n",
      "1431\n",
      "1/1 [==============================] - 2s 2s/step - loss: 0.1683 - accuracy: 0.7500\n",
      "1432\n",
      "1/1 [==============================] - 2s 2s/step - loss: 0.2115 - accuracy: 0.6500\n",
      "1433\n",
      "1/1 [==============================] - 2s 2s/step - loss: 0.2480 - accuracy: 0.7000\n",
      "1434\n",
      "1/1 [==============================] - 2s 2s/step - loss: 0.2576 - accuracy: 0.6500\n",
      "1435\n",
      "1/1 [==============================] - 2s 2s/step - loss: 0.1737 - accuracy: 0.8500\n",
      "1437\n",
      "1/1 [==============================] - 2s 2s/step - loss: 0.1299 - accuracy: 0.7500\n",
      "1438\n",
      "1/1 [==============================] - 2s 2s/step - loss: 0.2930 - accuracy: 0.5500\n",
      "1439\n",
      "1/1 [==============================] - 2s 2s/step - loss: 0.1697 - accuracy: 0.7000\n"
     ]
    }
   ],
   "source": [
    "#evaluate batch and dump acc scores to file\n",
    "import json\n",
    "try:\n",
    "    with open('image_accuracy','r') as writing:\n",
    "        acc = json.load(writing)\n",
    "except:\n",
    "    acc = {}\n",
    "count = 0\n",
    "tot = 300\n",
    "with open('evaluate_images', 'r') as read_file:\n",
    "        for i in read_file:\n",
    "            if count > tot:\n",
    "                print(i[40:-10])\n",
    "                acc[i] = evaluate_batch(i[40:-10])\n",
    "            count += 1\n",
    "            if (count%(tot+50)) == tot+50-1:\n",
    "                break\n",
    "                \n",
    "with open('image_accuracy','w') as writing:\n",
    "    json.dump(acc, writing)\n",
    "        "
   ]
  },
  {
   "cell_type": "code",
   "execution_count": 20,
   "id": "e6afd426",
   "metadata": {},
   "outputs": [
    {
     "name": "stdout",
     "output_type": "stream",
     "text": [
      "0.7551229516746568 244\n"
     ]
    }
   ],
   "source": [
    "#sum all accuracy scores\n",
    "import json\n",
    "acc = 0\n",
    "with open('image_accuracy','r') as json_file:\n",
    "    data = json.load(json_file)\n",
    "count = 0\n",
    "for key in data:\n",
    "    acc += float(data[key])\n",
    "    count += 1\n",
    "print(acc/count, count)"
   ]
  },
  {
   "cell_type": "code",
   "execution_count": 11,
   "id": "b702e5d0",
   "metadata": {},
   "outputs": [
    {
     "name": "stdout",
     "output_type": "stream",
     "text": [
      "Confusion Matrix:\n",
      "[[106  12]\n",
      " [ 19  63]]\n"
     ]
    }
   ],
   "source": [
    "import numpy as np\n",
    "import tensorflow as tf\n",
    "from sklearn.metrics import confusion_matrix\n",
    "import boto3\n",
    "\n",
    "\n",
    "# Function to evaluate a batch and collect predictions and labels\n",
    "def evaluate_batch(batch_name):\n",
    "    imgs = read_data_from_s3(s3_bucket, f'train/pre1/images/img_numpy_train_batch_{batch_name}_imgs.npy')\n",
    "    lbls = read_data_from_s3(s3_bucket, f'train/pre1/labels/img_numpy_train_batch_{batch_name}_lbls.npy')\n",
    "    \n",
    "    # Assuming lbls are binary (0 or 1)\n",
    "    lbls = lbls.astype(int)\n",
    "    \n",
    "    # Get predictions\n",
    "    probabilities = model.predict(imgs)\n",
    "    predictions = (probabilities > 0.5).astype(int)  # Convert probabilities to binary class labels\n",
    "    \n",
    "    return predictions, lbls\n",
    "\n",
    "# Collect all predictions and labels\n",
    "all_predictions = []\n",
    "all_labels = []\n",
    "\n",
    "for i in range(1, 11):  # Assuming batch names are from 1 to 10\n",
    "    batch_predictions, batch_labels = evaluate_batch(i)\n",
    "    all_predictions.extend(batch_predictions)\n",
    "    all_labels.extend(batch_labels)\n",
    "\n",
    "# Compute confusion matrix\n",
    "conf_matrix = confusion_matrix(all_labels, all_predictions)\n",
    "\n",
    "print(\"Confusion Matrix:\")\n",
    "print(conf_matrix)\n"
   ]
  },
  {
   "cell_type": "code",
   "execution_count": 14,
   "id": "a36292b7",
   "metadata": {},
   "outputs": [
    {
     "name": "stdout",
     "output_type": "stream",
     "text": [
      "Confusion Matrix:\n",
      "[[505 101]\n",
      " [154 240]]\n"
     ]
    }
   ],
   "source": [
    "all_predictions = []\n",
    "all_labels = []\n",
    "count = 0\n",
    "with open('evaluate_images', 'r') as read_file:\n",
    "        for i in read_file:\n",
    "            batch_predictions, batch_labels = evaluate_batch(i[40:-10])\n",
    "            all_predictions.extend(batch_predictions)\n",
    "            all_labels.extend(batch_labels)\n",
    "            if (count == 50-1):\n",
    "                break\n",
    "            count += 1\n",
    "conf_matrix = confusion_matrix(all_labels, all_predictions)\n",
    "\n",
    "print(\"Confusion Matrix:\")\n",
    "print(conf_matrix)\n"
   ]
  },
  {
   "cell_type": "code",
   "execution_count": 17,
   "id": "a685d203",
   "metadata": {},
   "outputs": [
    {
     "name": "stdout",
     "output_type": "stream",
     "text": [
      "0.745\n"
     ]
    }
   ],
   "source": [
    "print((505+240)/(505+240+154+101))"
   ]
  },
  {
   "cell_type": "code",
   "execution_count": null,
   "id": "539cbb2e",
   "metadata": {},
   "outputs": [],
   "source": []
  }
 ],
 "metadata": {
  "kernelspec": {
   "display_name": "Python 3 (ipykernel)",
   "language": "python",
   "name": "python3"
  },
  "language_info": {
   "codemirror_mode": {
    "name": "ipython",
    "version": 3
   },
   "file_extension": ".py",
   "mimetype": "text/x-python",
   "name": "python",
   "nbconvert_exporter": "python",
   "pygments_lexer": "ipython3",
   "version": "3.12.4"
  }
 },
 "nbformat": 4,
 "nbformat_minor": 5
}
